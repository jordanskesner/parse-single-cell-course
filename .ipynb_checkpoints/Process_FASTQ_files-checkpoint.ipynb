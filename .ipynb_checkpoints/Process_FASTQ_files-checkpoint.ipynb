{
 "cells": [
  {
   "cell_type": "markdown",
   "id": "9CM17uZJaiE2",
   "metadata": {
    "id": "9CM17uZJaiE2"
   },
   "source": [
    "# Check the quality of FASTQ files"
   ]
  },
  {
   "cell_type": "markdown",
   "id": "tSepoZXCauBZ",
   "metadata": {
    "id": "tSepoZXCauBZ"
   },
   "source": [
    "This is a more practical lesson, where we will see how we can check the quality of FASTQ files and process them to obtain raw count matrices that can be uploaded to Trailmaker.\n",
    "For this lesson, we will use small example FASTQ files located in the [shared Google Drive folder named \"fastq_files\"](https://drive.google.com/drive/folders/1MU_HS86zPuOoftUBSD_jtQWpB-awUQ-O?usp=drive_link)."
   ]
  },
  {
   "cell_type": "markdown",
   "id": "3IJgsnwVbgPX",
   "metadata": {
    "id": "3IJgsnwVbgPX"
   },
   "source": [
    "To check the quality of our FASTQ files, we are going to use a tool called FastQC. The following code will download and install [FastQC](https://www.bioinformatics.babraham.ac.uk/projects/fastqc/)."
   ]
  },
  {
   "cell_type": "code",
   "execution_count": 4,
   "id": "ZNluvIXeb8sA",
   "metadata": {
    "id": "ZNluvIXeb8sA"
   },
   "outputs": [
    {
     "name": "stdout",
     "output_type": "stream",
     "text": [
      "--2025-02-06 17:32:28--  https://www.bioinformatics.babraham.ac.uk/projects/fastqc/fastqc_v0.12.1.zip\n",
      "Resolving www.bioinformatics.babraham.ac.uk (www.bioinformatics.babraham.ac.uk)... 149.155.133.4\n",
      "connected. to www.bioinformatics.babraham.ac.uk (www.bioinformatics.babraham.ac.uk)|149.155.133.4|:443... \n",
      "HTTP request sent, awaiting response... 200 OK\n",
      "Length: 11709692 (11M) [application/zip]\n",
      "Saving to: ‘fastqc_v0.12.1.zip.1’\n",
      "\n",
      "fastqc_v0.12.1.zip. 100%[===================>]  11.17M  3.65MB/s    in 3.1s    \n",
      "\n",
      "2025-02-06 17:32:31 (3.65 MB/s) - ‘fastqc_v0.12.1.zip.1’ saved [11709692/11709692]\n",
      "\n",
      "/bin/bash: line 1: unzip: command not found\n"
     ]
    }
   ],
   "source": [
    "## Install FastQC ##\n",
    "\n",
    "## Install java runtime environment, which is required by FastQC\n",
    "# can use ! to run shell commands inside notebook, but requires sudo\n",
    "# run in separate terminal instead:\n",
    "# sudo apt-get install -y openjdk-8-jre-headless perl\n",
    "\n",
    "## download the most recent version of FastQC\n",
    "!wget https://www.bioinformatics.babraham.ac.uk/projects/fastqc/fastqc_v0.12.1.zip\n",
    "# sudo apt install unzip\n",
    "!unzip fastqc_v0.12.1.zip"
   ]
  },
  {
   "cell_type": "code",
   "execution_count": null,
   "id": "9UD-WH5rcL3K",
   "metadata": {
    "id": "9UD-WH5rcL3K"
   },
   "outputs": [],
   "source": [
    "!\n",
    "!unzip fastqc_v0.12.1.zip"
   ]
  },
  {
   "cell_type": "code",
   "execution_count": null,
   "id": "F7OKmGcbcLQt",
   "metadata": {
    "id": "F7OKmGcbcLQt"
   },
   "outputs": [],
   "source": [
    "!chmod +x FastQC/fastqc"
   ]
  },
  {
   "cell_type": "markdown",
   "id": "c-OT9kO-bxzl",
   "metadata": {
    "id": "c-OT9kO-bxzl"
   },
   "source": [
    "Let's create a folder that will contain the output from FastQC."
   ]
  },
  {
   "cell_type": "code",
   "execution_count": null,
   "id": "X-tZVsb1cU05",
   "metadata": {
    "id": "X-tZVsb1cU05"
   },
   "outputs": [],
   "source": [
    "%mkdir fastqc_output"
   ]
  },
  {
   "cell_type": "markdown",
   "id": "Bhe1Yzq6cbOA",
   "metadata": {
    "id": "Bhe1Yzq6cbOA"
   },
   "source": [
    "Let's run FastQC on all our FASTQ files."
   ]
  },
  {
   "cell_type": "code",
   "execution_count": null,
   "id": "nwU05vbhceyQ",
   "metadata": {
    "id": "nwU05vbhceyQ"
   },
   "outputs": [],
   "source": [
    "!/content/gdrive/MyDrive/trailmaker_course/FastQC/fastqc -t 8 -f fastq -o ./fastqc_output/ /content/gdrive/MyDrive/trailmaker_course/FASTQ_processing/fastq_files/*.gz"
   ]
  },
  {
   "cell_type": "markdown",
   "id": "lpjzDh-Jcq_V",
   "metadata": {
    "id": "lpjzDh-Jcq_V"
   },
   "source": [
    "When FastQC has finished running, we get an html report that we can examine to identify potential issues.\n",
    "\n",
    "For details on the different modules of FastQC and the most common reasons for warnings and errors, check out [this link](https://www.bioinformatics.babraham.ac.uk/projects/fastqc/Help/3%20Analysis%20Modules/).\n",
    "\n",
    "In this lesson, we used small example FASTQ files to demonstrate how to process a file quickly. However, because these are artificial files, the FastQC report will indicate poor quality. To illustrate the output of high-quality FASTQ files, in this lesson we present an example of FastQC report from real, good-quality FASTQ files. You will find this report in the course PDF material for this lesson."
   ]
  },
  {
   "cell_type": "markdown",
   "id": "7ba97b37",
   "metadata": {
    "id": "7ba97b37"
   },
   "source": [
    "# Process fastq files\n"
   ]
  },
  {
   "cell_type": "markdown",
   "id": "_8Zr8TV8dJMk",
   "metadata": {
    "id": "_8Zr8TV8dJMk"
   },
   "source": [
    "To process FASTQ files we are going to use a tool called [kallisto|bustools](https://www.kallistobus.tools/). This will basically align the reads to the human reference genome, and create gene counts from the reads to generate a *cell x gene* matrix."
   ]
  },
  {
   "cell_type": "markdown",
   "id": "ea03a369",
   "metadata": {
    "id": "ea03a369"
   },
   "source": [
    "Install [`kb-python`](https://www.kallistobus.tools/kb_usage/kb_usage/#kallisto-and-bustools)"
   ]
  },
  {
   "cell_type": "code",
   "execution_count": null,
   "id": "459ed1f3",
   "metadata": {
    "id": "459ed1f3"
   },
   "outputs": [],
   "source": [
    "%pip install kb-python"
   ]
  },
  {
   "cell_type": "markdown",
   "id": "34a04647",
   "metadata": {
    "id": "34a04647"
   },
   "source": [
    "\n",
    "## Build a reference\n",
    "Reference files can be downloaded from [this link](https://support.10xgenomics.com/single-cell-gene-expression/software/downloads/latest).\n",
    "In our case, the data is from human, so we will download the human reference.\n",
    "\n",
    "NOTE: If the species is not human, you should download the corresponding transcriptome reference, t2g and gtf files, from your favorite source."
   ]
  },
  {
   "cell_type": "code",
   "execution_count": null,
   "id": "XWBSpQAAe4W9",
   "metadata": {
    "id": "XWBSpQAAe4W9"
   },
   "outputs": [],
   "source": [
    "%cd /content/gdrive/MyDrive/trailmaker_course\n",
    "!mkdir ./human-ref"
   ]
  },
  {
   "cell_type": "code",
   "execution_count": null,
   "id": "aebc654a",
   "metadata": {
    "id": "aebc654a"
   },
   "outputs": [],
   "source": [
    "species = \"human\"\n",
    "\n",
    "!curl -O https://cf.10xgenomics.com/supp/cell-exp/refdata-gex-GRCh38-2020-A.tar.gz\n",
    "!tar -xvf refdata-gex-GRCh38-2020-A.tar.gz --directory /content/gdrive/MyDrive/trailmaker_course/human-ref\n",
    "!rm refdata-gex-GRCh38-2020-A.tar.gz"
   ]
  },
  {
   "cell_type": "markdown",
   "id": "3b9ab0ef",
   "metadata": {
    "id": "3b9ab0ef"
   },
   "source": [
    "Build the reference:"
   ]
  },
  {
   "cell_type": "code",
   "execution_count": null,
   "id": "1992f734",
   "metadata": {
    "id": "1992f734"
   },
   "outputs": [],
   "source": [
    "# specify directories/files\n",
    "ref_dir=\"/content/gdrive/MyDrive/trailmaker_course/human-ref/refdata-gex-GRCh38-2020-A/\"\n",
    "transcriptome = ref_dir + \"transcriptome.idx\"\n",
    "t2g = ref_dir + \"t2g.txt\"\n",
    "cdna = ref_dir + \"cdna.fa\"\n",
    "genome= ref_dir + \"fasta/genome.fa\"\n",
    "gtf= ref_dir + \"genes/genes.gtf\"\n",
    "\n",
    "# run kb ref\n",
    "!kb ref -i $transcriptome -g $t2g -f1 $cdna $genome $gtf"
   ]
  },
  {
   "cell_type": "markdown",
   "id": "03272f4e",
   "metadata": {
    "id": "03272f4e"
   },
   "source": [
    "## Generate a raw count matrix"
   ]
  },
  {
   "cell_type": "markdown",
   "id": "4905519e",
   "metadata": {
    "id": "4905519e"
   },
   "source": [
    "To generate the count matrices for each sample, we have to run `kb count`. This tool needs several arguments to run:\n",
    "1. `-i`: the index file, generated by `kb ref`.\n",
    "2. `-g`: the gtf file.\n",
    "3. `-x`: the technology.\n",
    "4. `-o`: the output folder.\n",
    "5. The fastq files. Should be an even number of files, and the same amount of R1's and R2's. You should add all R1's and R2's corresponding to the sample separated by spaces (or \\ to break the line). And they should be ordered R1 then R2, then R1... etc.\n",
    "\n",
    "This needs doing for each sample. In this case we have only one sample with 2 fastq files.\n",
    "Fastq files can be found in the folder \"trailmaker_course/fastq_files/\""
   ]
  },
  {
   "cell_type": "code",
   "execution_count": null,
   "id": "0024c49a",
   "metadata": {
    "id": "0024c49a"
   },
   "outputs": [],
   "source": [
    "# specify directories/files\n",
    "ref_dir=\"/content/gdrive/MyDrive/trailmaker_course/human-ref/refdata-gex-GRCh38-2020-A/\"\n",
    "transcriptome = ref_dir + \"transcriptome.idx\"\n",
    "t2g = ref_dir + \"t2g.txt\"\n",
    "cdna = ref_dir + \"cdna.fa\"\n",
    "genome= ref_dir + \"fasta/genome.fa\"\n",
    "gtf= ref_dir + \"genes/genes.gtf\"\n",
    "\n",
    "\n",
    "# run kb count\n",
    "!kb count -i $transcriptome -g $t2g -x \"SPLIT-SEQ\" -o /content/gdrive/MyDrive/trailmaker_course/pbmc_1k_kbcount_output \\\n",
    "/content/gdrive/MyDrive/trailmaker_course/FASTQ_processing/fastq_files/pbmc_3Mreads_S1_R1.fastq.gz  \\\n",
    "/content/gdrive/MyDrive/trailmaker_course/FASTQ_processing/fastq_files/pbmc_3Mreads_S1_R2.fastq.gz \\\n",
    "\n",
    "# keep adding these lines for the extra samples."
   ]
  },
  {
   "cell_type": "markdown",
   "id": "c3796b03",
   "metadata": {
    "id": "c3796b03"
   },
   "source": [
    "## Convert to files compatible with Trailmaker"
   ]
  },
  {
   "cell_type": "markdown",
   "id": "0a61642d",
   "metadata": {
    "id": "0a61642d"
   },
   "source": [
    "Lastly, we have to convert the kallisto bustools output to count matrices files that can be uploaded to Trailmaker Insights (one folder per sample, each with barcodes/features/matrix files). For that we have an R script that does it automatically. The convert_kbout_to_matrices.R file is inside the same folder as the notebook. Running the following cell should take care of things, but in case there are issues, the simplest solution is to run the contents of the script interactively in Rstudio."
   ]
  },
  {
   "cell_type": "code",
   "execution_count": null,
   "id": "c7883082",
   "metadata": {
    "id": "c7883082"
   },
   "outputs": [],
   "source": [
    "%cd /content/gdrive/MyDrive/trailmaker_course\n",
    "!Rscript /content/gdrive/MyDrive/trailmaker_course/FASTQ_processing/convert_kbout_to_matrices.R \"human\""
   ]
  },
  {
   "cell_type": "markdown",
   "id": "hHiXM8Uhp1pa",
   "metadata": {
    "id": "hHiXM8Uhp1pa"
   },
   "source": [
    "The files generated (you should find them in the folder \"trailmaker_course/pbmc_1k\") are ready to be uploaded to Trailmaker!"
   ]
  }
 ],
 "metadata": {
  "colab": {
   "provenance": []
  },
  "interpreter": {
   "hash": "aee8b7b246df8f9039afb4144a1f6fd8d2ca17a180786b69acc140d282b71a49"
  },
  "kernelspec": {
   "display_name": "Python 3 (ipykernel)",
   "language": "python",
   "name": "python3"
  },
  "language_info": {
   "codemirror_mode": {
    "name": "ipython",
    "version": 3
   },
   "file_extension": ".py",
   "mimetype": "text/x-python",
   "name": "python",
   "nbconvert_exporter": "python",
   "pygments_lexer": "ipython3",
   "version": "3.12.3"
  }
 },
 "nbformat": 4,
 "nbformat_minor": 5
}
