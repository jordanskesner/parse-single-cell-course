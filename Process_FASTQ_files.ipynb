{
 "cells": [
  {
   "cell_type": "markdown",
   "id": "9CM17uZJaiE2",
   "metadata": {
    "id": "9CM17uZJaiE2"
   },
   "source": [
    "# Check the quality of FASTQ files"
   ]
  },
  {
   "cell_type": "markdown",
   "id": "tSepoZXCauBZ",
   "metadata": {
    "id": "tSepoZXCauBZ"
   },
   "source": [
    "This is a more practical lesson, where we will see how we can check the quality of FASTQ files and process them to obtain raw count matrices that can be uploaded to Trailmaker.\n",
    "For this lesson, we will use small example FASTQ files located in the [shared Google Drive folder named \"fastq_files\"](https://drive.google.com/drive/folders/1MU_HS86zPuOoftUBSD_jtQWpB-awUQ-O?usp=drive_link)."
   ]
  },
  {
   "cell_type": "markdown",
   "id": "3IJgsnwVbgPX",
   "metadata": {
    "id": "3IJgsnwVbgPX"
   },
   "source": [
    "To check the quality of our FASTQ files, we are going to use a tool called FastQC. The following code will download and install [FastQC](https://www.bioinformatics.babraham.ac.uk/projects/fastqc/)."
   ]
  },
  {
   "cell_type": "code",
   "execution_count": null,
   "id": "ZNluvIXeb8sA",
   "metadata": {
    "id": "ZNluvIXeb8sA"
   },
   "outputs": [],
   "source": [
    "## Install FastQC ##\n",
    "\n",
    "## Install java runtime environment, which is required by FastQC\n",
    "# can use ! to run shell commands inside notebook, but requires sudo\n",
    "# run in separate terminal instead:\n",
    "# sudo apt-get install -y openjdk-8-jre-headless perl\n",
    "\n",
    "## download the most recent version of FastQC\n",
    "#wget https://www.bioinformatics.babraham.ac.uk/projects/fastqc/fastqc_v0.12.1.zip\n",
    "# sudo apt install unzip\n",
    "#unzip fastqc_v0.12.1.zip\n",
    "#chmod +x FastQC/fastqc"
   ]
  },
  {
   "cell_type": "markdown",
   "id": "c-OT9kO-bxzl",
   "metadata": {
    "id": "c-OT9kO-bxzl"
   },
   "source": [
    "Let's create a folder that will contain the output from FastQC, and run FastQC on all our FASTQ files"
   ]
  },
  {
   "cell_type": "code",
   "execution_count": null,
   "id": "X-tZVsb1cU05",
   "metadata": {
    "id": "X-tZVsb1cU05"
   },
   "outputs": [],
   "source": [
    "## A java error was encountered, had to disable assitive services:\n",
    "# sudo -e /etc/java-8-openjdk/accessibility.properties\n",
    "# comment out the line about assessibility\n",
    "#mkdir fastqc_output\n",
    "#FastQC/fastqc -t 8 -f fastq -o ./fastqc_output/ /home/jordan/0.local/parse-single-cell-course/fastq_files/*.gz"
   ]
  },
  {
   "cell_type": "markdown",
   "id": "lpjzDh-Jcq_V",
   "metadata": {
    "id": "lpjzDh-Jcq_V"
   },
   "source": [
    "When FastQC has finished running, we get an html report that we can examine to identify potential issues.\n",
    "\n",
    "For details on the different modules of FastQC and the most common reasons for warnings and errors, check out [this link](https://www.bioinformatics.babraham.ac.uk/projects/fastqc/Help/3%20Analysis%20Modules/).\n",
    "\n",
    "In this lesson, we used small example FASTQ files to demonstrate how to process a file quickly. However, because these are artificial files, the FastQC report will indicate poor quality. To illustrate the output of high-quality FASTQ files, in this lesson we present an example of FastQC report from real, good-quality FASTQ files. You will find this report in the course PDF material for this lesson."
   ]
  },
  {
   "cell_type": "markdown",
   "id": "7ba97b37",
   "metadata": {
    "id": "7ba97b37"
   },
   "source": [
    "# Process fastq files\n"
   ]
  },
  {
   "cell_type": "markdown",
   "id": "_8Zr8TV8dJMk",
   "metadata": {
    "id": "_8Zr8TV8dJMk"
   },
   "source": [
    "To process FASTQ files we are going to use a tool called [kallisto|bustools](https://www.kallistobus.tools/). This will basically align the reads to the human reference genome, and create gene counts from the reads to generate a *cell x gene* matrix."
   ]
  },
  {
   "cell_type": "markdown",
   "id": "ea03a369",
   "metadata": {
    "id": "ea03a369"
   },
   "source": [
    "Install [`kb-python`](https://www.kallistobus.tools/kb_usage/kb_usage/#kallisto-and-bustools)"
   ]
  },
  {
   "cell_type": "code",
   "execution_count": 13,
   "id": "459ed1f3",
   "metadata": {
    "id": "459ed1f3"
   },
   "outputs": [
    {
     "name": "stdout",
     "output_type": "stream",
     "text": [
      "Requirement already satisfied: kb-python in /home/jordan/jupyter/lib/python3.12/site-packages (0.29.1)\n",
      "Requirement already satisfied: anndata>=0.9.2 in /home/jordan/jupyter/lib/python3.12/site-packages (from kb-python) (0.11.3)\n",
      "Requirement already satisfied: h5py>=2.10.0 in /home/jordan/jupyter/lib/python3.12/site-packages (from kb-python) (3.12.1)\n",
      "Requirement already satisfied: Jinja2>2.10.1 in /home/jordan/jupyter/lib/python3.12/site-packages (from kb-python) (3.1.5)\n",
      "Requirement already satisfied: loompy>=3.0.6 in /home/jordan/jupyter/lib/python3.12/site-packages (from kb-python) (3.0.8)\n",
      "Requirement already satisfied: nbconvert>=5.6.0 in /home/jordan/jupyter/lib/python3.12/site-packages (from kb-python) (7.16.6)\n",
      "Requirement already satisfied: nbformat>=4.4.0 in /home/jordan/jupyter/lib/python3.12/site-packages (from kb-python) (5.10.4)\n",
      "Requirement already satisfied: ngs-tools>=1.8.6 in /home/jordan/jupyter/lib/python3.12/site-packages (from kb-python) (1.8.6)\n",
      "Requirement already satisfied: numpy>=1.17.2 in /home/jordan/jupyter/lib/python3.12/site-packages (from kb-python) (2.1.3)\n",
      "Requirement already satisfied: pandas>=1.5.3 in /home/jordan/jupyter/lib/python3.12/site-packages (from kb-python) (2.2.3)\n",
      "Requirement already satisfied: plotly>=4.5.0 in /home/jordan/jupyter/lib/python3.12/site-packages (from kb-python) (6.0.0)\n",
      "Requirement already satisfied: requests>=2.22.0 in /home/jordan/jupyter/lib/python3.12/site-packages (from kb-python) (2.32.3)\n",
      "Requirement already satisfied: scanpy>=1.4.4.post1 in /home/jordan/jupyter/lib/python3.12/site-packages (from kb-python) (1.10.4)\n",
      "Requirement already satisfied: scikit-learn>=0.21.3 in /home/jordan/jupyter/lib/python3.12/site-packages (from kb-python) (1.6.1)\n",
      "Requirement already satisfied: typing-extensions>=3.7.4 in /home/jordan/jupyter/lib/python3.12/site-packages (from kb-python) (4.12.2)\n",
      "Requirement already satisfied: biopython>=1.8 in /home/jordan/jupyter/lib/python3.12/site-packages (from kb-python) (1.85)\n",
      "Requirement already satisfied: array-api-compat!=1.5,>1.4 in /home/jordan/jupyter/lib/python3.12/site-packages (from anndata>=0.9.2->kb-python) (1.10.0)\n",
      "Requirement already satisfied: natsort in /home/jordan/jupyter/lib/python3.12/site-packages (from anndata>=0.9.2->kb-python) (8.4.0)\n",
      "Requirement already satisfied: packaging>=20.0 in /home/jordan/jupyter/lib/python3.12/site-packages (from anndata>=0.9.2->kb-python) (24.2)\n",
      "Requirement already satisfied: scipy>1.8 in /home/jordan/jupyter/lib/python3.12/site-packages (from anndata>=0.9.2->kb-python) (1.15.1)\n",
      "Requirement already satisfied: MarkupSafe>=2.0 in /home/jordan/jupyter/lib/python3.12/site-packages (from Jinja2>2.10.1->kb-python) (3.0.2)\n",
      "Requirement already satisfied: setuptools in /home/jordan/jupyter/lib/python3.12/site-packages (from loompy>=3.0.6->kb-python) (75.8.0)\n",
      "Requirement already satisfied: numba in /home/jordan/jupyter/lib/python3.12/site-packages (from loompy>=3.0.6->kb-python) (0.61.0)\n",
      "Requirement already satisfied: click in /home/jordan/jupyter/lib/python3.12/site-packages (from loompy>=3.0.6->kb-python) (8.1.8)\n",
      "Requirement already satisfied: numpy-groupies in /home/jordan/jupyter/lib/python3.12/site-packages (from loompy>=3.0.6->kb-python) (0.11.2)\n",
      "Requirement already satisfied: beautifulsoup4 in /home/jordan/jupyter/lib/python3.12/site-packages (from nbconvert>=5.6.0->kb-python) (4.13.3)\n",
      "Requirement already satisfied: bleach!=5.0.0 in /home/jordan/jupyter/lib/python3.12/site-packages (from bleach[css]!=5.0.0->nbconvert>=5.6.0->kb-python) (6.2.0)\n",
      "Requirement already satisfied: defusedxml in /home/jordan/jupyter/lib/python3.12/site-packages (from nbconvert>=5.6.0->kb-python) (0.7.1)\n",
      "Requirement already satisfied: jupyter-core>=4.7 in /home/jordan/jupyter/lib/python3.12/site-packages (from nbconvert>=5.6.0->kb-python) (5.7.2)\n",
      "Requirement already satisfied: jupyterlab-pygments in /home/jordan/jupyter/lib/python3.12/site-packages (from nbconvert>=5.6.0->kb-python) (0.3.0)\n",
      "Requirement already satisfied: mistune<4,>=2.0.3 in /home/jordan/jupyter/lib/python3.12/site-packages (from nbconvert>=5.6.0->kb-python) (3.1.1)\n",
      "Requirement already satisfied: nbclient>=0.5.0 in /home/jordan/jupyter/lib/python3.12/site-packages (from nbconvert>=5.6.0->kb-python) (0.10.2)\n",
      "Requirement already satisfied: pandocfilters>=1.4.1 in /home/jordan/jupyter/lib/python3.12/site-packages (from nbconvert>=5.6.0->kb-python) (1.5.1)\n",
      "Requirement already satisfied: pygments>=2.4.1 in /home/jordan/jupyter/lib/python3.12/site-packages (from nbconvert>=5.6.0->kb-python) (2.19.1)\n",
      "Requirement already satisfied: traitlets>=5.1 in /home/jordan/jupyter/lib/python3.12/site-packages (from nbconvert>=5.6.0->kb-python) (5.14.3)\n",
      "Requirement already satisfied: fastjsonschema>=2.15 in /home/jordan/jupyter/lib/python3.12/site-packages (from nbformat>=4.4.0->kb-python) (2.21.1)\n",
      "Requirement already satisfied: jsonschema>=2.6 in /home/jordan/jupyter/lib/python3.12/site-packages (from nbformat>=4.4.0->kb-python) (4.23.0)\n",
      "Requirement already satisfied: joblib>=1.0.1 in /home/jordan/jupyter/lib/python3.12/site-packages (from ngs-tools>=1.8.6->kb-python) (1.4.2)\n",
      "Requirement already satisfied: pysam>=0.16.0.1 in /home/jordan/jupyter/lib/python3.12/site-packages (from ngs-tools>=1.8.6->kb-python) (0.23.0)\n",
      "Requirement already satisfied: shortuuid>=1.0.1 in /home/jordan/jupyter/lib/python3.12/site-packages (from ngs-tools>=1.8.6->kb-python) (1.0.13)\n",
      "Requirement already satisfied: tqdm>=4.50.0 in /home/jordan/jupyter/lib/python3.12/site-packages (from ngs-tools>=1.8.6->kb-python) (4.67.1)\n",
      "Requirement already satisfied: python-dateutil>=2.8.2 in /home/jordan/jupyter/lib/python3.12/site-packages (from pandas>=1.5.3->kb-python) (2.9.0.post0)\n",
      "Requirement already satisfied: pytz>=2020.1 in /home/jordan/jupyter/lib/python3.12/site-packages (from pandas>=1.5.3->kb-python) (2025.1)\n",
      "Requirement already satisfied: tzdata>=2022.7 in /home/jordan/jupyter/lib/python3.12/site-packages (from pandas>=1.5.3->kb-python) (2025.1)\n",
      "Requirement already satisfied: narwhals>=1.15.1 in /home/jordan/jupyter/lib/python3.12/site-packages (from plotly>=4.5.0->kb-python) (1.25.2)\n",
      "Requirement already satisfied: charset-normalizer<4,>=2 in /home/jordan/jupyter/lib/python3.12/site-packages (from requests>=2.22.0->kb-python) (3.4.1)\n",
      "Requirement already satisfied: idna<4,>=2.5 in /home/jordan/jupyter/lib/python3.12/site-packages (from requests>=2.22.0->kb-python) (3.10)\n",
      "Requirement already satisfied: urllib3<3,>=1.21.1 in /home/jordan/jupyter/lib/python3.12/site-packages (from requests>=2.22.0->kb-python) (2.3.0)\n",
      "Requirement already satisfied: certifi>=2017.4.17 in /home/jordan/jupyter/lib/python3.12/site-packages (from requests>=2.22.0->kb-python) (2025.1.31)\n",
      "Requirement already satisfied: legacy-api-wrap>=1.4 in /home/jordan/jupyter/lib/python3.12/site-packages (from scanpy>=1.4.4.post1->kb-python) (1.4.1)\n",
      "Requirement already satisfied: matplotlib>=3.6 in /home/jordan/jupyter/lib/python3.12/site-packages (from scanpy>=1.4.4.post1->kb-python) (3.10.0)\n",
      "Requirement already satisfied: networkx>=2.7 in /home/jordan/jupyter/lib/python3.12/site-packages (from scanpy>=1.4.4.post1->kb-python) (3.4.2)\n",
      "Requirement already satisfied: patsy!=1.0.0 in /home/jordan/jupyter/lib/python3.12/site-packages (from scanpy>=1.4.4.post1->kb-python) (1.0.1)\n",
      "Requirement already satisfied: pynndescent>=0.5 in /home/jordan/jupyter/lib/python3.12/site-packages (from scanpy>=1.4.4.post1->kb-python) (0.5.13)\n",
      "Requirement already satisfied: seaborn>=0.13 in /home/jordan/jupyter/lib/python3.12/site-packages (from scanpy>=1.4.4.post1->kb-python) (0.13.2)\n",
      "Requirement already satisfied: session-info in /home/jordan/jupyter/lib/python3.12/site-packages (from scanpy>=1.4.4.post1->kb-python) (1.0.0)\n",
      "Requirement already satisfied: statsmodels>=0.13 in /home/jordan/jupyter/lib/python3.12/site-packages (from scanpy>=1.4.4.post1->kb-python) (0.14.4)\n",
      "Requirement already satisfied: umap-learn!=0.5.0,>=0.5 in /home/jordan/jupyter/lib/python3.12/site-packages (from scanpy>=1.4.4.post1->kb-python) (0.5.7)\n",
      "Requirement already satisfied: threadpoolctl>=3.1.0 in /home/jordan/jupyter/lib/python3.12/site-packages (from scikit-learn>=0.21.3->kb-python) (3.5.0)\n",
      "Requirement already satisfied: webencodings in /home/jordan/jupyter/lib/python3.12/site-packages (from bleach!=5.0.0->bleach[css]!=5.0.0->nbconvert>=5.6.0->kb-python) (0.5.1)\n",
      "Requirement already satisfied: tinycss2<1.5,>=1.1.0 in /home/jordan/jupyter/lib/python3.12/site-packages (from bleach[css]!=5.0.0->nbconvert>=5.6.0->kb-python) (1.4.0)\n",
      "Requirement already satisfied: attrs>=22.2.0 in /home/jordan/jupyter/lib/python3.12/site-packages (from jsonschema>=2.6->nbformat>=4.4.0->kb-python) (25.1.0)\n",
      "Requirement already satisfied: jsonschema-specifications>=2023.03.6 in /home/jordan/jupyter/lib/python3.12/site-packages (from jsonschema>=2.6->nbformat>=4.4.0->kb-python) (2024.10.1)\n",
      "Requirement already satisfied: referencing>=0.28.4 in /home/jordan/jupyter/lib/python3.12/site-packages (from jsonschema>=2.6->nbformat>=4.4.0->kb-python) (0.36.2)\n",
      "Requirement already satisfied: rpds-py>=0.7.1 in /home/jordan/jupyter/lib/python3.12/site-packages (from jsonschema>=2.6->nbformat>=4.4.0->kb-python) (0.22.3)\n",
      "Requirement already satisfied: platformdirs>=2.5 in /home/jordan/jupyter/lib/python3.12/site-packages (from jupyter-core>=4.7->nbconvert>=5.6.0->kb-python) (4.3.6)\n",
      "Requirement already satisfied: contourpy>=1.0.1 in /home/jordan/jupyter/lib/python3.12/site-packages (from matplotlib>=3.6->scanpy>=1.4.4.post1->kb-python) (1.3.1)\n",
      "Requirement already satisfied: cycler>=0.10 in /home/jordan/jupyter/lib/python3.12/site-packages (from matplotlib>=3.6->scanpy>=1.4.4.post1->kb-python) (0.12.1)\n",
      "Requirement already satisfied: fonttools>=4.22.0 in /home/jordan/jupyter/lib/python3.12/site-packages (from matplotlib>=3.6->scanpy>=1.4.4.post1->kb-python) (4.55.8)\n",
      "Requirement already satisfied: kiwisolver>=1.3.1 in /home/jordan/jupyter/lib/python3.12/site-packages (from matplotlib>=3.6->scanpy>=1.4.4.post1->kb-python) (1.4.8)\n",
      "Requirement already satisfied: pillow>=8 in /home/jordan/jupyter/lib/python3.12/site-packages (from matplotlib>=3.6->scanpy>=1.4.4.post1->kb-python) (11.1.0)\n",
      "Requirement already satisfied: pyparsing>=2.3.1 in /home/jordan/jupyter/lib/python3.12/site-packages (from matplotlib>=3.6->scanpy>=1.4.4.post1->kb-python) (3.2.1)\n",
      "Requirement already satisfied: jupyter-client>=6.1.12 in /home/jordan/jupyter/lib/python3.12/site-packages (from nbclient>=0.5.0->nbconvert>=5.6.0->kb-python) (8.6.3)\n",
      "Requirement already satisfied: llvmlite<0.45,>=0.44.0dev0 in /home/jordan/jupyter/lib/python3.12/site-packages (from numba->loompy>=3.0.6->kb-python) (0.44.0)\n",
      "Requirement already satisfied: six>=1.5 in /home/jordan/jupyter/lib/python3.12/site-packages (from python-dateutil>=2.8.2->pandas>=1.5.3->kb-python) (1.17.0)\n",
      "Requirement already satisfied: soupsieve>1.2 in /home/jordan/jupyter/lib/python3.12/site-packages (from beautifulsoup4->nbconvert>=5.6.0->kb-python) (2.6)\n",
      "Requirement already satisfied: stdlib_list in /home/jordan/jupyter/lib/python3.12/site-packages (from session-info->scanpy>=1.4.4.post1->kb-python) (0.11.0)\n",
      "Requirement already satisfied: pyzmq>=23.0 in /home/jordan/jupyter/lib/python3.12/site-packages (from jupyter-client>=6.1.12->nbclient>=0.5.0->nbconvert>=5.6.0->kb-python) (26.2.1)\n",
      "Requirement already satisfied: tornado>=6.2 in /home/jordan/jupyter/lib/python3.12/site-packages (from jupyter-client>=6.1.12->nbclient>=0.5.0->nbconvert>=5.6.0->kb-python) (6.4.2)\n"
     ]
    }
   ],
   "source": [
    "# activate pyenv if needed\n",
    "!source ../jupyter/bin/activate\n",
    "!pip install kb-python"
   ]
  },
  {
   "cell_type": "markdown",
   "id": "34a04647",
   "metadata": {
    "id": "34a04647"
   },
   "source": [
    "\n",
    "## Build a reference\n",
    "Reference files can be downloaded from [this link](https://support.10xgenomics.com/single-cell-gene-expression/software/downloads/latest).\n",
    "In our case, the data is from human, so we will download the human reference.\n",
    "\n",
    "NOTE: If the species is not human, you should download the corresponding transcriptome reference, t2g and gtf files, from your favorite source."
   ]
  },
  {
   "cell_type": "code",
   "execution_count": 14,
   "id": "XWBSpQAAe4W9",
   "metadata": {
    "id": "XWBSpQAAe4W9"
   },
   "outputs": [],
   "source": [
    "!mkdir ../0.local/parse-single-cell-course/human-ref"
   ]
  },
  {
   "cell_type": "code",
   "execution_count": null,
   "id": "aebc654a",
   "metadata": {
    "id": "aebc654a"
   },
   "outputs": [],
   "source": [
    "species = \"human\"\n",
    "\n",
    "!curl -O https://cf.10xgenomics.com/supp/cell-exp/refdata-gex-GRCh38-2020-A.tar.gz\n",
    "!tar -xvf refdata-gex-GRCh38-2020-A.tar.gz --directory /content/gdrive/MyDrive/trailmaker_course/human-ref\n",
    "!rm refdata-gex-GRCh38-2020-A.tar.gz"
   ]
  },
  {
   "cell_type": "markdown",
   "id": "3b9ab0ef",
   "metadata": {
    "id": "3b9ab0ef"
   },
   "source": [
    "Build the reference:"
   ]
  },
  {
   "cell_type": "code",
   "execution_count": null,
   "id": "1992f734",
   "metadata": {
    "id": "1992f734"
   },
   "outputs": [],
   "source": [
    "# specify directories/files\n",
    "ref_dir=\"/content/gdrive/MyDrive/trailmaker_course/human-ref/refdata-gex-GRCh38-2020-A/\"\n",
    "transcriptome = ref_dir + \"transcriptome.idx\"\n",
    "t2g = ref_dir + \"t2g.txt\"\n",
    "cdna = ref_dir + \"cdna.fa\"\n",
    "genome= ref_dir + \"fasta/genome.fa\"\n",
    "gtf= ref_dir + \"genes/genes.gtf\"\n",
    "\n",
    "# run kb ref\n",
    "!kb ref -i $transcriptome -g $t2g -f1 $cdna $genome $gtf"
   ]
  },
  {
   "cell_type": "markdown",
   "id": "03272f4e",
   "metadata": {
    "id": "03272f4e"
   },
   "source": [
    "## Generate a raw count matrix"
   ]
  },
  {
   "cell_type": "markdown",
   "id": "4905519e",
   "metadata": {
    "id": "4905519e"
   },
   "source": [
    "To generate the count matrices for each sample, we have to run `kb count`. This tool needs several arguments to run:\n",
    "1. `-i`: the index file, generated by `kb ref`.\n",
    "2. `-g`: the gtf file.\n",
    "3. `-x`: the technology.\n",
    "4. `-o`: the output folder.\n",
    "5. The fastq files. Should be an even number of files, and the same amount of R1's and R2's. You should add all R1's and R2's corresponding to the sample separated by spaces (or \\ to break the line). And they should be ordered R1 then R2, then R1... etc.\n",
    "\n",
    "This needs doing for each sample. In this case we have only one sample with 2 fastq files.\n",
    "Fastq files can be found in the folder \"trailmaker_course/fastq_files/\""
   ]
  },
  {
   "cell_type": "code",
   "execution_count": null,
   "id": "0024c49a",
   "metadata": {
    "id": "0024c49a"
   },
   "outputs": [],
   "source": [
    "# specify directories/files\n",
    "ref_dir=\"/content/gdrive/MyDrive/trailmaker_course/human-ref/refdata-gex-GRCh38-2020-A/\"\n",
    "transcriptome = ref_dir + \"transcriptome.idx\"\n",
    "t2g = ref_dir + \"t2g.txt\"\n",
    "cdna = ref_dir + \"cdna.fa\"\n",
    "genome= ref_dir + \"fasta/genome.fa\"\n",
    "gtf= ref_dir + \"genes/genes.gtf\"\n",
    "\n",
    "\n",
    "# run kb count\n",
    "!kb count -i $transcriptome -g $t2g -x \"SPLIT-SEQ\" -o /content/gdrive/MyDrive/trailmaker_course/pbmc_1k_kbcount_output \\\n",
    "/content/gdrive/MyDrive/trailmaker_course/FASTQ_processing/fastq_files/pbmc_3Mreads_S1_R1.fastq.gz  \\\n",
    "/content/gdrive/MyDrive/trailmaker_course/FASTQ_processing/fastq_files/pbmc_3Mreads_S1_R2.fastq.gz \\\n",
    "\n",
    "# keep adding these lines for the extra samples."
   ]
  },
  {
   "cell_type": "markdown",
   "id": "c3796b03",
   "metadata": {
    "id": "c3796b03"
   },
   "source": [
    "## Convert to files compatible with Trailmaker"
   ]
  },
  {
   "cell_type": "markdown",
   "id": "0a61642d",
   "metadata": {
    "id": "0a61642d"
   },
   "source": [
    "Lastly, we have to convert the kallisto bustools output to count matrices files that can be uploaded to Trailmaker Insights (one folder per sample, each with barcodes/features/matrix files). For that we have an R script that does it automatically. The convert_kbout_to_matrices.R file is inside the same folder as the notebook. Running the following cell should take care of things, but in case there are issues, the simplest solution is to run the contents of the script interactively in Rstudio."
   ]
  },
  {
   "cell_type": "code",
   "execution_count": null,
   "id": "c7883082",
   "metadata": {
    "id": "c7883082"
   },
   "outputs": [],
   "source": [
    "%cd /content/gdrive/MyDrive/trailmaker_course\n",
    "!Rscript /content/gdrive/MyDrive/trailmaker_course/FASTQ_processing/convert_kbout_to_matrices.R \"human\""
   ]
  },
  {
   "cell_type": "markdown",
   "id": "hHiXM8Uhp1pa",
   "metadata": {
    "id": "hHiXM8Uhp1pa"
   },
   "source": [
    "The files generated (you should find them in the folder \"trailmaker_course/pbmc_1k\") are ready to be uploaded to Trailmaker!"
   ]
  }
 ],
 "metadata": {
  "colab": {
   "provenance": []
  },
  "interpreter": {
   "hash": "aee8b7b246df8f9039afb4144a1f6fd8d2ca17a180786b69acc140d282b71a49"
  },
  "kernelspec": {
   "display_name": "Python 3 (ipykernel)",
   "language": "python",
   "name": "python3"
  },
  "language_info": {
   "codemirror_mode": {
    "name": "ipython",
    "version": 3
   },
   "file_extension": ".py",
   "mimetype": "text/x-python",
   "name": "python",
   "nbconvert_exporter": "python",
   "pygments_lexer": "ipython3",
   "version": "3.12.3"
  }
 },
 "nbformat": 4,
 "nbformat_minor": 5
}
